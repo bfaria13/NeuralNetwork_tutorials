{
 "cells": [
  {
   "cell_type": "markdown",
   "id": "81595241",
   "metadata": {},
   "source": [
    "<span style=\"color:orange\">\n",
    "    <h1>In this notebook the one can see how to verify and test the GPU usage by TensorFlow.</h1>\n",
    "</span>\n",
    "\n",
    "\n",
    "---\n",
    "_Bruna Faria. PhD in Computing, Data Science and Engineering._"
   ]
  },
  {
   "cell_type": "markdown",
   "id": "52f2da8d",
   "metadata": {},
   "source": [
    "**Remember:** Before checking the Tensorflow GPU installation, you should have all essential packages installed!\n",
    "\n",
    "To install Cuda and make the GPU available for TF you can follow this great [Tutorial](https://levelup.gitconnected.com/how-to-install-the-nvidia-cuda-driver-cuda-toolkit-cudnn-and-tensorrt-on-windows-af58647b6d9a)."
   ]
  },
  {
   "cell_type": "code",
   "execution_count": 1,
   "id": "f4fa0b4d",
   "metadata": {},
   "outputs": [
    {
     "data": {
      "text/plain": [
       "True"
      ]
     },
     "execution_count": 1,
     "metadata": {},
     "output_type": "execute_result"
    }
   ],
   "source": [
    "# Importing the TensorFlow\n",
    "\n",
    "import tensorflow as tf\n",
    "\n",
    "# Checking the cuda building\n",
    "\n",
    "tf.test.is_built_with_cuda()"
   ]
  },
  {
   "cell_type": "code",
   "execution_count": 2,
   "id": "11e66304",
   "metadata": {},
   "outputs": [
    {
     "data": {
      "text/plain": [
       "[PhysicalDevice(name='/physical_device:GPU:0', device_type='GPU')]"
      ]
     },
     "execution_count": 2,
     "metadata": {},
     "output_type": "execute_result"
    }
   ],
   "source": [
    "# Listing the physical GPU devices of the computer\n",
    "\n",
    "tf.config.list_physical_devices('GPU')"
   ]
  },
  {
   "cell_type": "code",
   "execution_count": 3,
   "id": "de2ca1d3",
   "metadata": {},
   "outputs": [
    {
     "name": "stdout",
     "output_type": "stream",
     "text": [
      "Found GPU at: /device:GPU:0\n"
     ]
    }
   ],
   "source": [
    "# Finding the GPU available\n",
    "\n",
    "device_name = tf.test.gpu_device_name() #getting the name\n",
    "\n",
    "if device_name != '/device:GPU:0': #checking the availability\n",
    "    \n",
    "      raise SystemError('GPU device not found')\n",
    "        \n",
    "print('Found GPU at: {}'.format(device_name))"
   ]
  },
  {
   "cell_type": "code",
   "execution_count": 4,
   "id": "60d512a4",
   "metadata": {},
   "outputs": [
    {
     "name": "stdout",
     "output_type": "stream",
     "text": [
      "Time (s) to convolve 32x7x7x3 filter over random 100x100x100x3 images (batch x height x width x channel). Sum of ten runs.\n",
      "CPUs:\n",
      "2.3466153000000034\n",
      "GPUs:\n",
      "0.03541720000000481\n",
      "GPU speedup over CPU: 66x\n"
     ]
    }
   ],
   "source": [
    "# Now we will test the performance in CPU versus GPU:\n",
    "\n",
    "import timeit\n",
    "\n",
    "def cpu():\n",
    "    with tf.device('/cpu:0'):\n",
    "        random_image_cpu = tf.random.normal((100, 100, 100, 3)) #creating a random image\n",
    "        net_cpu = tf.keras.layers.Conv2D(32, 7)(random_image_cpu) #applying a convolution  \n",
    "        return tf.math.reduce_sum(net_cpu) \n",
    "\n",
    "def gpu():\n",
    "    with tf.device('/device:GPU:0'):\n",
    "        random_image_gpu = tf.random.normal((100, 100, 100, 3))\n",
    "        net_gpu = tf.keras.layers.Conv2D(32, 7)(random_image_gpu)\n",
    "        return tf.math.reduce_sum(net_gpu)\n",
    "\n",
    "# Running each function (operation) to make them warm\n",
    "\n",
    "cpu()\n",
    "gpu()\n",
    "\n",
    "# Finally, we will run each function for several times:\n",
    "\n",
    "print('Time (s) to convolve 32x7x7x3 filter over random 100x100x100x3 images '\n",
    "      '(batch x height x width x channel). Sum of ten runs.')\n",
    "\n",
    "print('CPUs:')\n",
    "\n",
    "cpu_time = timeit.timeit('cpu()', number=10, setup=\"from __main__ import cpu\")\n",
    "print(cpu_time)\n",
    "\n",
    "print('GPUs:')\n",
    "gpu_time = timeit.timeit('gpu()', number=10, setup=\"from __main__ import gpu\")\n",
    "print(gpu_time)\n",
    "\n",
    "print('GPU speedup over CPU: {}x'.format(int(cpu_time/gpu_time)))"
   ]
  },
  {
   "cell_type": "code",
   "execution_count": 5,
   "id": "06b756f2",
   "metadata": {},
   "outputs": [
    {
     "name": "stdout",
     "output_type": "stream",
     "text": [
      "[name: \"/device:CPU:0\"\n",
      "device_type: \"CPU\"\n",
      "memory_limit: 268435456\n",
      "locality {\n",
      "}\n",
      "incarnation: 351395512268874822\n",
      ", name: \"/device:GPU:0\"\n",
      "device_type: \"GPU\"\n",
      "memory_limit: 1387367424\n",
      "locality {\n",
      "  bus_id: 1\n",
      "  links {\n",
      "  }\n",
      "}\n",
      "incarnation: 4640768116626077514\n",
      "physical_device_desc: \"device: 0, name: NVIDIA GeForce GTX 1050, pci bus id: 0000:01:00.0, compute capability: 6.1\"\n",
      "]\n"
     ]
    }
   ],
   "source": [
    "# You can verify more about your device setting\n",
    "\n",
    "from tensorflow.python.client import device_lib \n",
    "\n",
    "print(device_lib.list_local_devices())"
   ]
  },
  {
   "cell_type": "markdown",
   "id": "7a87176d",
   "metadata": {},
   "source": [
    "**Reference used in this tutorial: [TensorFlow with GPU](https://colab.research.google.com/notebooks/gpu.ipynb)**"
   ]
  }
 ],
 "metadata": {
  "kernelspec": {
   "display_name": "Python 3",
   "language": "python",
   "name": "python3"
  },
  "language_info": {
   "codemirror_mode": {
    "name": "ipython",
    "version": 3
   },
   "file_extension": ".py",
   "mimetype": "text/x-python",
   "name": "python",
   "nbconvert_exporter": "python",
   "pygments_lexer": "ipython3",
   "version": "3.8.8"
  }
 },
 "nbformat": 4,
 "nbformat_minor": 5
}
