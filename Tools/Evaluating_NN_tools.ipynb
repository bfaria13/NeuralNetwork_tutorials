{
 "cells": [
  {
   "cell_type": "markdown",
   "id": "e6d33763",
   "metadata": {},
   "source": [
    "<span style=\"color:orange\">\n",
    "    <h1>In this notebook the one can know more about ways to evaluate the network performance.</h1>\n",
    "</span>\n",
    "\n",
    "\n",
    "---\n",
    "_Bruna Faria. PhD in Computing, Data Science and Engineering._"
   ]
  },
  {
   "cell_type": "markdown",
   "id": "d48c562c",
   "metadata": {},
   "source": [
    "# Two strategies to evaluate the models grafically:\n",
    "\n",
    "\n",
    "# 1) Tensorboard:\n",
    "\n",
    "Using tensorboard we can follow the loss, accuracy, histograms, model grafo, and so on. \n",
    "\n",
    "\n",
    "# 2) Metrics from model:\n",
    "\n",
    "All models save their metrics, which can be accessed to generate simples plots with matplotlib."
   ]
  },
  {
   "cell_type": "code",
   "execution_count": 1,
   "id": "3d15cfab",
   "metadata": {},
   "outputs": [],
   "source": [
    "# First importing Libraries\n",
    "\n",
    "import tensorflow as tf\n",
    "\n",
    "# Datetime to use system date\n",
    "import datetime\n",
    "\n",
    "# Extension for TensorBoard\n",
    "%load_ext tensorboard"
   ]
  },
  {
   "cell_type": "code",
   "execution_count": 2,
   "id": "1eb1aa7f",
   "metadata": {},
   "outputs": [
    {
     "name": "stderr",
     "output_type": "stream",
     "text": [
      "The system cannot find the file specified.\n",
      "The system cannot find the file specified.\n",
      "The system cannot find the file specified.\n",
      "The system cannot find the file specified.\n"
     ]
    }
   ],
   "source": [
    "# Second, make sure that there aren't log files in the work folder\n",
    "\n",
    "!rmdir /s /q logs # for windows\n",
    "#rm -rf ./logs/ # for linux"
   ]
  },
  {
   "cell_type": "code",
   "execution_count": 3,
   "id": "2f54bbf6",
   "metadata": {},
   "outputs": [
    {
     "name": "stdout",
     "output_type": "stream",
     "text": [
      "(60000, 28, 28) (60000,)\n"
     ]
    }
   ],
   "source": [
    "# Importing the dataset MNIST as example\n",
    "\n",
    "mnist = tf.keras.datasets.mnist\n",
    "\n",
    "(x_train, y_train), (x_test, y_test) = mnist.load_data()\n",
    "\n",
    "# Normalizing data\n",
    "\n",
    "x_train = x_train/255.0\n",
    "x_test = x_test/255.0\n",
    "\n",
    "print(x_train.shape, y_train.shape)"
   ]
  },
  {
   "cell_type": "code",
   "execution_count": 4,
   "id": "f5774923",
   "metadata": {},
   "outputs": [
    {
     "data": {
      "image/png": "[encoded data removed]",
      "text/plain": [
       "<Figure size 1080x360 with 5 Axes>"
      ]
     },
     "metadata": {
      "needs_background": "light"
     },
     "output_type": "display_data"
    }
   ],
   "source": [
    "# Visualizing some examples of the dataset\n",
    "\n",
    "import matplotlib.pyplot as plt\n",
    "\n",
    "fig, axes = plt.subplots(ncols=5, sharex=False, sharey=True, figsize=(15, 5))\n",
    "\n",
    "for i in range(5):\n",
    "    axes[i].set_title(y_train[i])\n",
    "    axes[i].imshow(x_train[i], cmap='gray')\n",
    "    axes[i].get_xaxis().set_visible(False)\n",
    "    axes[i].get_yaxis().set_visible(False)\n",
    "    \n",
    "plt.show()"
   ]
  },
  {
   "cell_type": "markdown",
   "id": "50e4e3cd",
   "metadata": {},
   "source": [
    "> **Here the idea is to evaluate different models to find the best one able to identify the number in the image correctly!**"
   ]
  },
  {
   "cell_type": "code",
   "execution_count": 5,
   "id": "fc0d9e79",
   "metadata": {},
   "outputs": [
    {
     "name": "stdout",
     "output_type": "stream",
     "text": [
      "Model: \"sequential\"\n",
      "_________________________________________________________________\n",
      "Layer (type)                 Output Shape              Param #   \n",
      "=================================================================\n",
      "flatten (Flatten)            (None, 784)               0         \n",
      "_________________________________________________________________\n",
      "dense (Dense)                (None, 512)               401920    \n",
      "_________________________________________________________________\n",
      "dense_1 (Dense)              (None, 10)                5130      \n",
      "=================================================================\n",
      "Total params: 407,050\n",
      "Trainable params: 407,050\n",
      "Non-trainable params: 0\n",
      "_________________________________________________________________\n"
     ]
    }
   ],
   "source": [
    "# Creating the first model without Dropout and using Adam as optimizer\n",
    "\n",
    "model1 = tf.keras.models.Sequential([\n",
    "    tf.keras.layers.Flatten(input_shape=(28, 28)),\n",
    "    tf.keras.layers.Dense(512, activation='relu'),\n",
    "    tf.keras.layers.Dense(10, activation='softmax')])\n",
    "\n",
    "\n",
    "# Compiling the model\n",
    "\n",
    "model1.compile(optimizer='adam',\n",
    "              loss='sparse_categorical_crossentropy',\n",
    "              metrics=['accuracy'])\n",
    "\n",
    "model1.summary()"
   ]
  },
  {
   "cell_type": "markdown",
   "id": "90655487",
   "metadata": {},
   "source": [
    ">**For better organization of files is very important that the logs contain the date of their generation.**\n",
    "\n",
    "Then, let's go verify the system date:"
   ]
  },
  {
   "cell_type": "code",
   "execution_count": 6,
   "id": "2c36b479",
   "metadata": {},
   "outputs": [
    {
     "data": {
      "text/plain": [
       "'2021-11-19 / 14:23:57'"
      ]
     },
     "execution_count": 6,
     "metadata": {},
     "output_type": "execute_result"
    }
   ],
   "source": [
    "datetime.datetime.now().strftime(\"%Y-%m-%d / %H:%M:%S\")"
   ]
  },
  {
   "cell_type": "markdown",
   "id": "4b17911f",
   "metadata": {},
   "source": [
    "> **The generation of a tensorboard callback ensures that records are created and stored correctly during network training!**\n",
    "\n",
    "__Usage:__\n",
    "\n",
    "    tf.keras.callbacks.TensorBoard(log_dir=\"path/directory\", histogram_freq=1)\n",
    "\n",
    "**Tips and Tricks:**\n",
    "\n",
    "- Defining histogram_freq=1, the one is ensuring that the histogram will be calculated in each epoch and then returning one more object to evaluate the network. \n",
    "\n",
    "\n",
    "- For each different models you should define the tensorboard callback again!"
   ]
  },
  {
   "cell_type": "code",
   "execution_count": 7,
   "id": "781656d4",
   "metadata": {},
   "outputs": [
    {
     "name": "stdout",
     "output_type": "stream",
     "text": [
      "Folder path of the records for the first model:  logs/fit/20211119-142400\n"
     ]
    }
   ],
   "source": [
    "# Defining the callback for the first model:\n",
    "\n",
    "log_dir1 = \"logs/fit/\" + datetime.datetime.now().strftime(\"%Y%m%d-%H%M%S\") #path of the records\n",
    "\n",
    "tensorboard_callback1 = tf.keras.callbacks.TensorBoard(log_dir=log_dir1, histogram_freq=1)\n",
    "\n",
    "print('Folder path of the records for the first model: ', log_dir1)"
   ]
  },
  {
   "cell_type": "code",
   "execution_count": 8,
   "id": "650105d7",
   "metadata": {},
   "outputs": [
    {
     "name": "stdout",
     "output_type": "stream",
     "text": [
      "Epoch 1/10\n",
      "1875/1875 [==============================] - 5s 3ms/step - loss: 0.2013 - accuracy: 0.9397 - val_loss: 0.1069 - val_accuracy: 0.9665\n",
      "Epoch 2/10\n",
      "1875/1875 [==============================] - 4s 2ms/step - loss: 0.0813 - accuracy: 0.9748 - val_loss: 0.0738 - val_accuracy: 0.9757\n",
      "Epoch 3/10\n",
      "1875/1875 [==============================] - 4s 2ms/step - loss: 0.0535 - accuracy: 0.9833 - val_loss: 0.0818 - val_accuracy: 0.9747\n",
      "Epoch 4/10\n",
      "1875/1875 [==============================] - 5s 3ms/step - loss: 0.0380 - accuracy: 0.9879 - val_loss: 0.0710 - val_accuracy: 0.9785\n",
      "Epoch 5/10\n",
      "1875/1875 [==============================] - 5s 3ms/step - loss: 0.0272 - accuracy: 0.9911 - val_loss: 0.0772 - val_accuracy: 0.9775\n",
      "Epoch 6/10\n",
      "1875/1875 [==============================] - 7s 4ms/step - loss: 0.0221 - accuracy: 0.9929 - val_loss: 0.0737 - val_accuracy: 0.9772\n",
      "Epoch 7/10\n",
      "1875/1875 [==============================] - 6s 3ms/step - loss: 0.0168 - accuracy: 0.9945 - val_loss: 0.0835 - val_accuracy: 0.9790\n",
      "Epoch 8/10\n",
      "1875/1875 [==============================] - 5s 3ms/step - loss: 0.0135 - accuracy: 0.9955 - val_loss: 0.0832 - val_accuracy: 0.9778\n",
      "Epoch 9/10\n",
      "1875/1875 [==============================] - 5s 3ms/step - loss: 0.0146 - accuracy: 0.9952 - val_loss: 0.0789 - val_accuracy: 0.9814\n",
      "Epoch 10/10\n",
      "1875/1875 [==============================] - 5s 3ms/step - loss: 0.0108 - accuracy: 0.9964 - val_loss: 0.0936 - val_accuracy: 0.9782\n"
     ]
    }
   ],
   "source": [
    "# Training the first model\n",
    "\n",
    "history1 = model1.fit(x=x_train, \n",
    "                      y=y_train, \n",
    "                      epochs=10,\n",
    "                      validation_data=(x_test, y_test),\n",
    "                      callbacks=[tensorboard_callback1])"
   ]
  },
  {
   "cell_type": "markdown",
   "id": "2b6bbdb3",
   "metadata": {},
   "source": [
    "#### Evaluating the performance with Tensorboard:"
   ]
  },
  {
   "cell_type": "code",
   "execution_count": 10,
   "id": "d1eefb20",
   "metadata": {
    "scrolled": false
   },
   "outputs": [
    {
     "data": {
      "text/html": [
       "\n",
       "      <iframe id=\"tensorboard-frame-55b82de3f1ae35db\" width=\"100%\" height=\"800\" frameborder=\"0\">\n",
       "      </iframe>\n",
       "      <script>\n",
       "        (function() {\n",
       "          const frame = document.getElementById(\"tensorboard-frame-55b82de3f1ae35db\");\n",
       "          const url = new URL(\"/\", window.location);\n",
       "          const port = 6006;\n",
       "          if (port) {\n",
       "            url.port = port;\n",
       "          }\n",
       "          frame.src = url;\n",
       "        })();\n",
       "      </script>\n",
       "    "
      ],
      "text/plain": [
       "<IPython.core.display.HTML object>"
      ]
     },
     "metadata": {},
     "output_type": "display_data"
    }
   ],
   "source": [
    "# Starting the records made by the tensorboard:\n",
    "    \n",
    "%tensorboard --logdir logs/fit --host localhost"
   ]
  },
  {
   "cell_type": "markdown",
   "id": "cc494f00",
   "metadata": {},
   "source": [
    "<h3>Interpreting the Tensorboard results:</h3>\n",
    "\n",
    "\n",
    "- 1) Scalars show for us the plots for all metrics that the model was compiled, including the loss. With these plots, we can evaluate the loss, accuracy, and so on, as well as verify the effectiveness of the learning rate used. Also, verifying the stability of the model according to the number of epoch and possible overfitting.\n",
    "\n",
    "\n",
    "- 2) Graphs show the path realized by the algorithm to solve the problem as well as the data and operation flux.\n",
    "\n",
    "\n",
    "- 3) Distributions and Histograms allow us to follow the tensor distribution according to epochs which is great to analyze the weights and biases updating. \n",
    "\n",
    "\n",
    "\n",
    "\n",
    "<span style=\"color:red;font-family:arial; font-weight:bold; font-size:1em\"> Remember that the Tensorboard is an interactive tools! </span>\n",
    "\n",
    "\n",
    "Extra links to study: \n",
    "\n",
    "https://www.tensorflow.org/tensorboard/get_started\n",
    "\n",
    "https://medium.com/neuronio-br/utilizando-o-tensorboard-874cab437042"
   ]
  },
  {
   "cell_type": "markdown",
   "id": "713e480e",
   "metadata": {},
   "source": [
    "#### Evaluating the performance with Simple plots:"
   ]
  },
  {
   "cell_type": "code",
   "execution_count": 11,
   "id": "6f2a0c52",
   "metadata": {},
   "outputs": [
    {
     "data": {
      "text/plain": [
       "dict_keys(['loss', 'accuracy', 'val_loss', 'val_accuracy'])"
      ]
     },
     "execution_count": 11,
     "metadata": {},
     "output_type": "execute_result"
    }
   ],
   "source": [
    "# Displaying the metrics keys saved by the model1\n",
    "\n",
    "history1.history.keys()"
   ]
  },
  {
   "cell_type": "code",
   "execution_count": 12,
   "id": "0bbc1998",
   "metadata": {},
   "outputs": [
    {
     "data": {
      "text/plain": [
       "<matplotlib.legend.Legend at 0x20ee7b89190>"
      ]
     },
     "execution_count": 12,
     "metadata": {},
     "output_type": "execute_result"
    },
    {
     "data": {
      "image/png": "[encoded data removed]",
      "text/plain": [
       "<Figure size 864x288 with 2 Axes>"
      ]
     },
     "metadata": {
      "needs_background": "light"
     },
     "output_type": "display_data"
    }
   ],
   "source": [
    "# Evaluating the performance of model1 with plots\n",
    "\n",
    "import matplotlib.pyplot as plt\n",
    "\n",
    "fig, axs = plt.subplots(1,2,figsize=[12,4])\n",
    "\n",
    "axs[0].plot(history1.history['loss'], label='train')\n",
    "axs[0].plot(history1.history['val_loss'], label='validation')\n",
    "axs[0].set_title('model1 loss')\n",
    "axs[0].set_ylabel('loss')\n",
    "axs[0].set_xlabel('epoch')\n",
    "axs[0].legend()\n",
    "\n",
    "axs[1].plot(history1.history['accuracy'], label='train')\n",
    "axs[1].plot(history1.history['val_accuracy'], label='validation')\n",
    "axs[1].set_title('model1 accuracy')\n",
    "axs[1].set_ylabel('accuracy')\n",
    "axs[1].set_xlabel('epoch')\n",
    "axs[1].legend()"
   ]
  },
  {
   "cell_type": "markdown",
   "id": "8502c48d",
   "metadata": {},
   "source": [
    "**What are your interpretations for such model performance?**"
   ]
  },
  {
   "cell_type": "markdown",
   "id": "100f07db",
   "metadata": {},
   "source": [
    "> **Second model:**"
   ]
  },
  {
   "cell_type": "code",
   "execution_count": 13,
   "id": "8c984e2e",
   "metadata": {},
   "outputs": [
    {
     "name": "stdout",
     "output_type": "stream",
     "text": [
      "Model: \"sequential_1\"\n",
      "_________________________________________________________________\n",
      "Layer (type)                 Output Shape              Param #   \n",
      "=================================================================\n",
      "flatten_1 (Flatten)          (None, 784)               0         \n",
      "_________________________________________________________________\n",
      "dense_2 (Dense)              (None, 28)                21980     \n",
      "_________________________________________________________________\n",
      "dropout (Dropout)            (None, 28)                0         \n",
      "_________________________________________________________________\n",
      "dense_3 (Dense)              (None, 10)                290       \n",
      "=================================================================\n",
      "Total params: 22,270\n",
      "Trainable params: 22,270\n",
      "Non-trainable params: 0\n",
      "_________________________________________________________________\n"
     ]
    }
   ],
   "source": [
    "# Creating the second model using Dropout and SGD as optimizer\n",
    "\n",
    "model2 = tf.keras.models.Sequential([\n",
    "    tf.keras.layers.Flatten(input_shape=(28, 28)),\n",
    "    tf.keras.layers.Dense(28, activation='relu'), #28 instead of 512\n",
    "    tf.keras.layers.Dropout(0.2),\n",
    "    tf.keras.layers.Dense(10, activation='softmax')])\n",
    "\n",
    "\n",
    "# Compiling the model\n",
    "\n",
    "model2.compile(optimizer='sgd',\n",
    "              loss='sparse_categorical_crossentropy',\n",
    "              metrics=['accuracy'])\n",
    "\n",
    "model2.summary()"
   ]
  },
  {
   "cell_type": "code",
   "execution_count": 14,
   "id": "0098e166",
   "metadata": {},
   "outputs": [
    {
     "name": "stdout",
     "output_type": "stream",
     "text": [
      "Folder path of the records for the second model:  logs/fit/20211119-142807\n"
     ]
    }
   ],
   "source": [
    "# Creating a specific log for the new model\n",
    "\n",
    "log_dir2 = \"logs/fit/\" + datetime.datetime.now().strftime(\"%Y%m%d-%H%M%S\")\n",
    "tensorboard_callback2 = tf.keras.callbacks.TensorBoard(log_dir=log_dir2, histogram_freq=1)\n",
    "\n",
    "print('Folder path of the records for the second model: ', log_dir2)"
   ]
  },
  {
   "cell_type": "code",
   "execution_count": 15,
   "id": "bc620b37",
   "metadata": {},
   "outputs": [
    {
     "name": "stdout",
     "output_type": "stream",
     "text": [
      "Epoch 1/10\n",
      "1875/1875 [==============================] - 7s 3ms/step - loss: 0.8602 - accuracy: 0.7472 - val_loss: 0.4063 - val_accuracy: 0.8920\n",
      "Epoch 2/10\n",
      "1875/1875 [==============================] - 5s 3ms/step - loss: 0.4901 - accuracy: 0.8546 - val_loss: 0.3246 - val_accuracy: 0.9103\n",
      "Epoch 3/10\n",
      "1875/1875 [==============================] - 4s 2ms/step - loss: 0.4243 - accuracy: 0.8740 - val_loss: 0.2907 - val_accuracy: 0.91840s - loss: 0\n",
      "Epoch 4/10\n",
      "1875/1875 [==============================] - 4s 2ms/step - loss: 0.3883 - accuracy: 0.8852 - val_loss: 0.2684 - val_accuracy: 0.9241\n",
      "Epoch 5/10\n",
      "1875/1875 [==============================] - 4s 2ms/step - loss: 0.3635 - accuracy: 0.8922 - val_loss: 0.2512 - val_accuracy: 0.9310\n",
      "Epoch 6/10\n",
      "1875/1875 [==============================] - 4s 2ms/step - loss: 0.3443 - accuracy: 0.8984 - val_loss: 0.2384 - val_accuracy: 0.9345\n",
      "Epoch 7/10\n",
      "1875/1875 [==============================] - 4s 2ms/step - loss: 0.3295 - accuracy: 0.9032 - val_loss: 0.2284 - val_accuracy: 0.9364\n",
      "Epoch 8/10\n",
      "1875/1875 [==============================] - 5s 3ms/step - loss: 0.3206 - accuracy: 0.9055 - val_loss: 0.2205 - val_accuracy: 0.9374\n",
      "Epoch 9/10\n",
      "1875/1875 [==============================] - 5s 3ms/step - loss: 0.3082 - accuracy: 0.9099 - val_loss: 0.2133 - val_accuracy: 0.9397\n",
      "Epoch 10/10\n",
      "1875/1875 [==============================] - 5s 3ms/step - loss: 0.2979 - accuracy: 0.9120 - val_loss: 0.2066 - val_accuracy: 0.9415\n"
     ]
    }
   ],
   "source": [
    "# Training writing in the same root path (logs/fit) created before but as new date/time reference\n",
    "\n",
    "history2 = model2.fit(x=x_train, \n",
    "                      y=y_train, \n",
    "                      epochs=10,\n",
    "                      validation_data=(x_test, y_test),\n",
    "                      callbacks=[tensorboard_callback2])"
   ]
  },
  {
   "cell_type": "markdown",
   "id": "3be3fe10",
   "metadata": {},
   "source": [
    "#### Evaluating the performance with Tensorboard:"
   ]
  },
  {
   "cell_type": "code",
   "execution_count": 16,
   "id": "cb523603",
   "metadata": {},
   "outputs": [
    {
     "data": {
      "text/plain": [
       "Reusing TensorBoard on port 6006 (pid 3564), started 0:01:15 ago. (Use '!kill 3564' to kill it.)"
      ]
     },
     "metadata": {},
     "output_type": "display_data"
    },
    {
     "data": {
      "text/html": [
       "\n",
       "      <iframe id=\"tensorboard-frame-c7cf7746138e3a82\" width=\"100%\" height=\"800\" frameborder=\"0\">\n",
       "      </iframe>\n",
       "      <script>\n",
       "        (function() {\n",
       "          const frame = document.getElementById(\"tensorboard-frame-c7cf7746138e3a82\");\n",
       "          const url = new URL(\"/\", window.location);\n",
       "          const port = 6006;\n",
       "          if (port) {\n",
       "            url.port = port;\n",
       "          }\n",
       "          frame.src = url;\n",
       "        })();\n",
       "      </script>\n",
       "    "
      ],
      "text/plain": [
       "<IPython.core.display.HTML object>"
      ]
     },
     "metadata": {},
     "output_type": "display_data"
    }
   ],
   "source": [
    "# Starting the records made by the tensorboard for both models\n",
    "    \n",
    "%tensorboard --logdir logs/fit --host localhost #will open all records present in logs/fit"
   ]
  },
  {
   "cell_type": "markdown",
   "id": "d1bcf622",
   "metadata": {},
   "source": [
    "#### Evaluating the performance with Simple plots:"
   ]
  },
  {
   "cell_type": "code",
   "execution_count": 17,
   "id": "e791084a",
   "metadata": {},
   "outputs": [
    {
     "data": {
      "text/plain": [
       "<matplotlib.legend.Legend at 0x20f04133fa0>"
      ]
     },
     "execution_count": 17,
     "metadata": {},
     "output_type": "execute_result"
    },
    {
     "data": {
      "image/png": "[encoded data removed]",
      "text/plain": [
       "<Figure size 864x288 with 2 Axes>"
      ]
     },
     "metadata": {
      "needs_background": "light"
     },
     "output_type": "display_data"
    }
   ],
   "source": [
    "# Evaluating the performance of model 2\n",
    "\n",
    "fig, axs = plt.subplots(1,2,figsize=[12,4])\n",
    "\n",
    "axs[0].plot(history2.history['loss'], label='train')\n",
    "axs[0].plot(history2.history['val_loss'], label='validation')\n",
    "axs[0].set_title('model2 loss')\n",
    "axs[0].set_ylabel('loss')\n",
    "axs[0].set_xlabel('epoch')\n",
    "axs[0].legend()\n",
    "\n",
    "axs[1].plot(history2.history['accuracy'], label='train')\n",
    "axs[1].plot(history2.history['val_accuracy'], label='validation')\n",
    "axs[1].set_title('model2 accuracy')\n",
    "axs[1].set_ylabel('accuracy')\n",
    "axs[1].set_xlabel('epoch')\n",
    "axs[1].legend()"
   ]
  },
  {
   "cell_type": "code",
   "execution_count": 18,
   "id": "e65c46e0",
   "metadata": {},
   "outputs": [
    {
     "data": {
      "text/plain": [
       "<matplotlib.legend.Legend at 0x20eef58bc40>"
      ]
     },
     "execution_count": 18,
     "metadata": {},
     "output_type": "execute_result"
    },
    {
     "data": {
      "image/png": "[encoded data removed]",
      "text/plain": [
       "<Figure size 864x288 with 2 Axes>"
      ]
     },
     "metadata": {
      "needs_background": "light"
     },
     "output_type": "display_data"
    }
   ],
   "source": [
    "# Plotting both models performance\n",
    "\n",
    "fig, axs = plt.subplots(1,2,figsize=[12,4])\n",
    "\n",
    "axs[0].plot(history1.history['loss'], label='train_m1')\n",
    "axs[0].plot(history1.history['val_loss'], label='validation_m1')\n",
    "axs[0].plot(history2.history['loss'], label='train_m2')\n",
    "axs[0].plot(history2.history['val_loss'], label='validation_m2')\n",
    "axs[0].set_title('models loss')\n",
    "axs[0].set_ylabel('loss')\n",
    "axs[0].set_xlabel('epoch')\n",
    "axs[0].legend()\n",
    "\n",
    "axs[1].plot(history1.history['accuracy'], label='train_m1')\n",
    "axs[1].plot(history1.history['val_accuracy'], label='validation_m1')\n",
    "axs[1].plot(history2.history['accuracy'], label='train_m2')\n",
    "axs[1].plot(history2.history['val_accuracy'], label='validation_m2')\n",
    "axs[1].set_title('models accuracy')\n",
    "axs[1].set_ylabel('accuracy')\n",
    "axs[1].set_xlabel('epoch')\n",
    "axs[1].legend()"
   ]
  },
  {
   "cell_type": "markdown",
   "id": "f2019f3e",
   "metadata": {},
   "source": [
    "**What are your interpretations for the models performance?**\n",
    "\n",
    "**Which is the best one?**"
   ]
  },
  {
   "cell_type": "code",
   "execution_count": 19,
   "id": "b5f23bb2",
   "metadata": {},
   "outputs": [
    {
     "name": "stdout",
     "output_type": "stream",
     "text": [
      "313/313 [==============================] - 1s 2ms/step - loss: 0.0936 - accuracy: 0.9782\n"
     ]
    },
    {
     "data": {
      "text/plain": [
       "[0.09355688840150833, 0.9782000184059143]"
      ]
     },
     "execution_count": 19,
     "metadata": {},
     "output_type": "execute_result"
    }
   ],
   "source": [
    "model1.evaluate(x=x_test, y=y_test)"
   ]
  },
  {
   "cell_type": "code",
   "execution_count": 20,
   "id": "23b247fa",
   "metadata": {},
   "outputs": [
    {
     "name": "stdout",
     "output_type": "stream",
     "text": [
      "313/313 [==============================] - 1s 2ms/step - loss: 0.2066 - accuracy: 0.9415\n"
     ]
    },
    {
     "data": {
      "text/plain": [
       "[0.20661355555057526, 0.9415000081062317]"
      ]
     },
     "execution_count": 20,
     "metadata": {},
     "output_type": "execute_result"
    }
   ],
   "source": [
    "model2.evaluate(x=x_test, y=y_test)"
   ]
  },
  {
   "cell_type": "markdown",
   "id": "4e76f51f",
   "metadata": {},
   "source": [
    "> **Now, we decide to train again the same model already fitted before, extending the epochs aiming to improve the accuracy. So, in this case, we want extend the log, not create a new!**"
   ]
  },
  {
   "cell_type": "code",
   "execution_count": 21,
   "id": "6c706f2a",
   "metadata": {},
   "outputs": [
    {
     "name": "stdout",
     "output_type": "stream",
     "text": [
      "Epoch 1/15\n",
      "1875/1875 [==============================] - 4s 2ms/step - loss: 0.2928 - accuracy: 0.9141 - val_loss: 0.2011 - val_accuracy: 0.9432\n",
      "Epoch 2/15\n",
      "1875/1875 [==============================] - 5s 3ms/step - loss: 0.2826 - accuracy: 0.9174 - val_loss: 0.1933 - val_accuracy: 0.9443\n",
      "Epoch 3/15\n",
      "1875/1875 [==============================] - 6s 3ms/step - loss: 0.2804 - accuracy: 0.9176 - val_loss: 0.1904 - val_accuracy: 0.9459\n",
      "Epoch 4/15\n",
      "1875/1875 [==============================] - 5s 3ms/step - loss: 0.2743 - accuracy: 0.9194 - val_loss: 0.1866 - val_accuracy: 0.9471\n",
      "Epoch 5/15\n",
      "1875/1875 [==============================] - 6s 3ms/step - loss: 0.2679 - accuracy: 0.9208 - val_loss: 0.1820 - val_accuracy: 0.9480\n",
      "Epoch 6/15\n",
      "1875/1875 [==============================] - 5s 3ms/step - loss: 0.2640 - accuracy: 0.9223 - val_loss: 0.1793 - val_accuracy: 0.9492\n",
      "Epoch 7/15\n",
      "1875/1875 [==============================] - 4s 2ms/step - loss: 0.2597 - accuracy: 0.9243 - val_loss: 0.1745 - val_accuracy: 0.9488\n",
      "Epoch 8/15\n",
      "1875/1875 [==============================] - 4s 2ms/step - loss: 0.2563 - accuracy: 0.9235 - val_loss: 0.1723 - val_accuracy: 0.9491\n",
      "Epoch 9/15\n",
      "1875/1875 [==============================] - 4s 2ms/step - loss: 0.2515 - accuracy: 0.9262 - val_loss: 0.1681 - val_accuracy: 0.9508\n",
      "Epoch 10/15\n",
      "1875/1875 [==============================] - 6s 3ms/step - loss: 0.2504 - accuracy: 0.9260 - val_loss: 0.1669 - val_accuracy: 0.9527\n",
      "Epoch 11/15\n",
      "1875/1875 [==============================] - 6s 3ms/step - loss: 0.2470 - accuracy: 0.9281 - val_loss: 0.1646 - val_accuracy: 0.9519\n",
      "Epoch 12/15\n",
      "1875/1875 [==============================] - 5s 3ms/step - loss: 0.2425 - accuracy: 0.9282 - val_loss: 0.1617 - val_accuracy: 0.9522\n",
      "Epoch 13/15\n",
      "1875/1875 [==============================] - 5s 3ms/step - loss: 0.2421 - accuracy: 0.9268 - val_loss: 0.1595 - val_accuracy: 0.9529\n",
      "Epoch 14/15\n",
      "1875/1875 [==============================] - 4s 2ms/step - loss: 0.2364 - accuracy: 0.9294 - val_loss: 0.1574 - val_accuracy: 0.9531\n",
      "Epoch 15/15\n",
      "1875/1875 [==============================] - 4s 2ms/step - loss: 0.2346 - accuracy: 0.9299 - val_loss: 0.1555 - val_accuracy: 0.9531\n"
     ]
    }
   ],
   "source": [
    "# Re-training the model for more 10 epochs using the same tensorboard callback\n",
    "\n",
    "history3 = model2.fit(x=x_train, \n",
    "                      y=y_train, \n",
    "                      epochs=15,\n",
    "                      validation_data=(x_test, y_test),\n",
    "                      callbacks=[tensorboard_callback2])"
   ]
  },
  {
   "cell_type": "markdown",
   "id": "a82ce6d6",
   "metadata": {},
   "source": [
    "#### Evaluating the performance with Tensorboard:"
   ]
  },
  {
   "cell_type": "code",
   "execution_count": 22,
   "id": "8b832e26",
   "metadata": {},
   "outputs": [
    {
     "data": {
      "text/plain": [
       "Reusing TensorBoard on port 6006 (pid 3564), started 0:04:12 ago. (Use '!kill 3564' to kill it.)"
      ]
     },
     "metadata": {},
     "output_type": "display_data"
    },
    {
     "data": {
      "text/html": [
       "\n",
       "      <iframe id=\"tensorboard-frame-195e5d908187aecf\" width=\"100%\" height=\"800\" frameborder=\"0\">\n",
       "      </iframe>\n",
       "      <script>\n",
       "        (function() {\n",
       "          const frame = document.getElementById(\"tensorboard-frame-195e5d908187aecf\");\n",
       "          const url = new URL(\"/\", window.location);\n",
       "          const port = 6006;\n",
       "          if (port) {\n",
       "            url.port = port;\n",
       "          }\n",
       "          frame.src = url;\n",
       "        })();\n",
       "      </script>\n",
       "    "
      ],
      "text/plain": [
       "<IPython.core.display.HTML object>"
      ]
     },
     "metadata": {},
     "output_type": "display_data"
    }
   ],
   "source": [
    "# Restarting the records made by the tensorboard: previous and actual\n",
    "    \n",
    "%tensorboard --logdir logs/fit --host localhost"
   ]
  },
  {
   "cell_type": "markdown",
   "id": "66c1de93",
   "metadata": {},
   "source": [
    "#### Evaluating the performance with Simple plots:"
   ]
  },
  {
   "cell_type": "code",
   "execution_count": 23,
   "id": "7cfeff12",
   "metadata": {},
   "outputs": [
    {
     "data": {
      "text/plain": [
       "dict_keys(['loss', 'accuracy', 'val_loss', 'val_accuracy'])"
      ]
     },
     "execution_count": 23,
     "metadata": {},
     "output_type": "execute_result"
    }
   ],
   "source": [
    "history3.history.keys()"
   ]
  },
  {
   "cell_type": "code",
   "execution_count": 24,
   "id": "f97e0714",
   "metadata": {},
   "outputs": [
    {
     "data": {
      "text/plain": [
       "<matplotlib.legend.Legend at 0x20eef650ac0>"
      ]
     },
     "execution_count": 24,
     "metadata": {},
     "output_type": "execute_result"
    },
    {
     "data": {
      "image/png": "[encoded data removed]",
      "text/plain": [
       "<Figure size 864x288 with 2 Axes>"
      ]
     },
     "metadata": {
      "needs_background": "light"
     },
     "output_type": "display_data"
    }
   ],
   "source": [
    "# Plotting both models performance\n",
    "\n",
    "fig, axs = plt.subplots(1,2,figsize=[12,4])\n",
    "\n",
    "axs[0].plot(history2.history['loss'], label='train_m2a')\n",
    "axs[0].plot(history2.history['val_loss'], label='validation_m2a')\n",
    "axs[0].plot(history3.history['loss'], label='train_m2b')\n",
    "axs[0].plot(history3.history['val_loss'], label='validation_m2b')\n",
    "axs[0].set_title('model2 loss')\n",
    "axs[0].set_ylabel('loss')\n",
    "axs[0].set_xlabel('epoch')\n",
    "axs[0].legend()\n",
    "\n",
    "axs[1].plot(history2.history['accuracy'], label='train_m2a')\n",
    "axs[1].plot(history2.history['val_accuracy'], label='validation_m2a')\n",
    "axs[1].plot(history3.history['accuracy'], label='train_m2b')\n",
    "axs[1].plot(history3.history['val_accuracy'], label='validation_m2b')\n",
    "axs[1].set_title('model2 accuracy')\n",
    "axs[1].set_ylabel('accuracy')\n",
    "axs[1].set_xlabel('epoch')\n",
    "axs[1].legend()"
   ]
  },
  {
   "cell_type": "markdown",
   "id": "20f0e850",
   "metadata": {},
   "source": [
    "**What are your interpretations for the models performance?**\n",
    "\n",
    "**Which improvements do you observe?**"
   ]
  },
  {
   "cell_type": "code",
   "execution_count": 25,
   "id": "208ecfd3",
   "metadata": {},
   "outputs": [
    {
     "name": "stdout",
     "output_type": "stream",
     "text": [
      "313/313 [==============================] - 1s 2ms/step - loss: 0.0936 - accuracy: 0.9782\n"
     ]
    },
    {
     "data": {
      "text/plain": [
       "[0.09355688840150833, 0.9782000184059143]"
      ]
     },
     "execution_count": 25,
     "metadata": {},
     "output_type": "execute_result"
    }
   ],
   "source": [
    "model1.evaluate(x=x_test, y=y_test)"
   ]
  },
  {
   "cell_type": "code",
   "execution_count": 26,
   "id": "f1683fdd",
   "metadata": {},
   "outputs": [
    {
     "name": "stdout",
     "output_type": "stream",
     "text": [
      "313/313 [==============================] - 1s 2ms/step - loss: 0.1555 - accuracy: 0.9531\n"
     ]
    },
    {
     "data": {
      "text/plain": [
       "[0.1555168181657791, 0.9531000256538391]"
      ]
     },
     "execution_count": 26,
     "metadata": {},
     "output_type": "execute_result"
    }
   ],
   "source": [
    "model2.evaluate(x=x_test, y=y_test)"
   ]
  },
  {
   "cell_type": "markdown",
   "id": "26b442c1",
   "metadata": {},
   "source": [
    "> **Additional:**"
   ]
  },
  {
   "cell_type": "code",
   "execution_count": 27,
   "id": "5708b709",
   "metadata": {},
   "outputs": [
    {
     "data": {
      "text/plain": [
       "['20211119-142400', '20211119-142807']"
      ]
     },
     "execution_count": 27,
     "metadata": {},
     "output_type": "execute_result"
    }
   ],
   "source": [
    "# We can use the following comands to verify the contents of the logs folder:\n",
    "\n",
    "import os\n",
    "\n",
    "os.listdir('logs/fit')"
   ]
  },
  {
   "cell_type": "code",
   "execution_count": 28,
   "id": "7a8879cd",
   "metadata": {},
   "outputs": [
    {
     "name": "stdout",
     "output_type": "stream",
     "text": [
      "['train', 'validation']\n",
      "['train', 'validation']\n"
     ]
    }
   ],
   "source": [
    "for i in os.listdir('logs/fit'):\n",
    "    print(os.listdir('logs/fit/'+i))"
   ]
  },
  {
   "cell_type": "code",
   "execution_count": 29,
   "id": "7cfddd25",
   "metadata": {},
   "outputs": [
    {
     "name": "stdout",
     "output_type": "stream",
     "text": [
      "Contents of the 20211119-142400/train\n",
      "['events.out.tfevents.1637342642.LAPTOP-27L6LR1M.3124.0.v2', 'events.out.tfevents.1637342645.LAPTOP-27L6LR1M.profile-empty', 'plugins']\n",
      "Contents of the 20211119-142400/validation\n",
      "['events.out.tfevents.1637342649.LAPTOP-27L6LR1M.3124.1.v2']\n",
      "Contents of the 20211119-142807/train\n",
      "['events.out.tfevents.1637342890.LAPTOP-27L6LR1M.3124.2.v2', 'events.out.tfevents.1637342890.LAPTOP-27L6LR1M.profile-empty', 'events.out.tfevents.1637342974.LAPTOP-27L6LR1M.3124.4.v2', 'plugins']\n",
      "Contents of the 20211119-142807/validation\n",
      "['events.out.tfevents.1637342896.LAPTOP-27L6LR1M.3124.3.v2', 'events.out.tfevents.1637342978.LAPTOP-27L6LR1M.3124.5.v2']\n"
     ]
    }
   ],
   "source": [
    "for i in os.listdir('logs/fit'):\n",
    "    for j in ['train', 'validation']:\n",
    "        path = 'logs/fit/'+i+'/'+j\n",
    "        print('Contents of the {}'.format(i+'/'+j))\n",
    "        print(os.listdir(path))"
   ]
  },
  {
   "cell_type": "markdown",
   "id": "ab71ef81",
   "metadata": {},
   "source": [
    "<span style=\"color:orange\">\n",
    "    <h1> Now that you learn more about tensorboard and graphics usage to evaluate neural network performance, remember to use it always in your works improving visually your results to get a better work development. </h1>\n",
    "</span>"
   ]
  }
 ],
 "metadata": {
  "kernelspec": {
   "display_name": "Python 3",
   "language": "python",
   "name": "python3"
  },
  "language_info": {
   "codemirror_mode": {
    "name": "ipython",
    "version": 3
   },
   "file_extension": ".py",
   "mimetype": "text/x-python",
   "name": "python",
   "nbconvert_exporter": "python",
   "pygments_lexer": "ipython3",
   "version": "3.8.8"
  }
 },
 "nbformat": 4,
 "nbformat_minor": 5
}
